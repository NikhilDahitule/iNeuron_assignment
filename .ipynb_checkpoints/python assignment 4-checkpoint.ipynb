{
 "cells": [
  {
   "cell_type": "markdown",
   "id": "6313ec0e",
   "metadata": {},
   "source": [
    "#### 1.1 Write a Python Program(with class concepts) to find the area of the triangle using the below formula."
   ]
  },
  {
   "cell_type": "raw",
   "id": "6fa9183a",
   "metadata": {},
   "source": [
    "area = (s*(s-a)*(s-b)*(s-c)) ** 0.5\n",
    "Function to take the length of the sides of triangle from user should be defined in the parent\n",
    "class and function to calculate the area should be defined in subclass."
   ]
  },
  {
   "cell_type": "code",
   "execution_count": 1,
   "id": "d8342eac",
   "metadata": {},
   "outputs": [
    {
     "data": {
      "text/plain": [
       "8.94427190999916"
      ]
     },
     "execution_count": 1,
     "metadata": {},
     "output_type": "execute_result"
    }
   ],
   "source": [
    "class sides:\n",
    "    def __init__(self,a,b,c):\n",
    "        self.a = a\n",
    "        self.b = b\n",
    "        self.c = c\n",
    "\n",
    "class triangle(sides):\n",
    "    def __init__(self,a,b,c):\n",
    "        sides.__init__(self,a,b,c)\n",
    "\n",
    "    def area_triangle(self):\n",
    "        s = (self.a + self.b + self.c) / 2\n",
    "        return (s*(s-self.a)*(s-self.b)*(s-self.c)) ** 0.5        \n",
    "\n",
    "t = triangle(3,6,7)\n",
    "t.area_triangle()"
   ]
  },
  {
   "cell_type": "markdown",
   "id": "645b034b",
   "metadata": {},
   "source": [
    "#### 1.2 Write a function filter_long_words() that takes a list of words and an integer n and returns the list of words that are longer than n."
   ]
  },
  {
   "cell_type": "code",
   "execution_count": 2,
   "id": "06deac52",
   "metadata": {},
   "outputs": [],
   "source": [
    "lst=['Given','Sentence','write','Python','program','to','convert','the','given','sentence', 'into', 'list', 'of','words']\n",
    "n=4"
   ]
  },
  {
   "cell_type": "code",
   "execution_count": 3,
   "id": "fa95190d",
   "metadata": {},
   "outputs": [
    {
     "name": "stdout",
     "output_type": "stream",
     "text": [
      "list of words longer than the 4 :  ['Given', 'Sentence', 'write', 'Python', 'program', 'convert', 'given', 'sentence', 'words']\n"
     ]
    }
   ],
   "source": [
    "def filter_long_words(lst,n):\n",
    "        # Making a empty list namded l for words longer than n\n",
    "        l=[]\n",
    "        for i in lst:\n",
    "            if len(i)>n:\n",
    "                l.append(i)\n",
    "        print('list of words longer than the {} : '.format(n) ,l)\n",
    "filter_long_words(lst,n)\n",
    "    "
   ]
  },
  {
   "cell_type": "markdown",
   "id": "5ad63f16",
   "metadata": {},
   "source": [
    "#### 2.1 Write a Python program using function concept that maps list of words into a list of integers representing the lengths of            the corresponding words."
   ]
  },
  {
   "cell_type": "code",
   "execution_count": 4,
   "id": "6a13ddc2",
   "metadata": {},
   "outputs": [],
   "source": [
    "lst=['Given','Sentence','write','Python','program','to','convert','the','given','sentence', 'into', 'list', 'of','words']"
   ]
  },
  {
   "cell_type": "code",
   "execution_count": 5,
   "id": "e5887097",
   "metadata": {},
   "outputs": [
    {
     "data": {
      "text/plain": [
       "[5, 8, 5, 6, 7, 2, 7, 3, 5, 8, 4, 4, 2, 5]"
      ]
     },
     "execution_count": 5,
     "metadata": {},
     "output_type": "execute_result"
    }
   ],
   "source": [
    "def map_list(l):\n",
    "    len_lst=[]\n",
    "    for i in l:\n",
    "        len_lst.append(len(i))\n",
    "    return len_lst\n",
    "map_list(lst)"
   ]
  },
  {
   "cell_type": "markdown",
   "id": "79d1ef34",
   "metadata": {},
   "source": [
    "#### 2.2 Write a Python function which takes a character (i.e. a string of length 1) and returns True if it is a vowel, False otherwise."
   ]
  },
  {
   "cell_type": "code",
   "execution_count": 6,
   "id": "a265e3b2",
   "metadata": {},
   "outputs": [],
   "source": [
    "s='Python'"
   ]
  },
  {
   "cell_type": "code",
   "execution_count": 7,
   "id": "3ad51f2d",
   "metadata": {},
   "outputs": [
    {
     "name": "stdout",
     "output_type": "stream",
     "text": [
      "False\n",
      "False\n",
      "False\n",
      "False\n",
      "True\n",
      "False\n"
     ]
    }
   ],
   "source": [
    "def is_vowel(s):\n",
    "    l=['a','e','i','o','u']\n",
    "    for i in s:\n",
    "        if i.lower() in l:\n",
    "            print(True)\n",
    "        else:\n",
    "            print(False)\n",
    "is_vowel(s)"
   ]
  }
 ],
 "metadata": {
  "kernelspec": {
   "display_name": "Python 3",
   "language": "python",
   "name": "python3"
  },
  "language_info": {
   "codemirror_mode": {
    "name": "ipython",
    "version": 3
   },
   "file_extension": ".py",
   "mimetype": "text/x-python",
   "name": "python",
   "nbconvert_exporter": "python",
   "pygments_lexer": "ipython3",
   "version": "3.8.8"
  }
 },
 "nbformat": 4,
 "nbformat_minor": 5
}
