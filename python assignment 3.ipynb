{
 "cells": [
  {
   "cell_type": "markdown",
   "id": "5da5031f",
   "metadata": {},
   "source": [
    "### 1.1 reduce()"
   ]
  },
  {
   "cell_type": "raw",
   "id": "f222093e",
   "metadata": {},
   "source": [
    "Write a Python Program to implement your own myreduce() function which works exactly\n",
    "like Python's built-in function reduce()"
   ]
  },
  {
   "cell_type": "markdown",
   "id": "29d9a874",
   "metadata": {},
   "source": [
    "#### here i create list and some function like addition, multiplication and average to give input parameter to our my_reduce funtion"
   ]
  },
  {
   "cell_type": "code",
   "execution_count": 1,
   "id": "c852f109",
   "metadata": {},
   "outputs": [],
   "source": [
    "lst=[1,2,4,6]"
   ]
  },
  {
   "cell_type": "code",
   "execution_count": 2,
   "id": "5315702f",
   "metadata": {},
   "outputs": [],
   "source": [
    "def addition(a,b):\n",
    "    return a+b"
   ]
  },
  {
   "cell_type": "code",
   "execution_count": 3,
   "id": "235c0404",
   "metadata": {},
   "outputs": [],
   "source": [
    "def multiplication(a,b):\n",
    "    return a*b"
   ]
  },
  {
   "cell_type": "code",
   "execution_count": 4,
   "id": "caee6501",
   "metadata": {},
   "outputs": [],
   "source": [
    "def my_reduce(fun,l):\n",
    "    sm=l[0]\n",
    "    for i in range(len(l)-1):\n",
    "        sm=fun(sm,l[i+1])\n",
    "    print(sm)"
   ]
  },
  {
   "cell_type": "code",
   "execution_count": 5,
   "id": "6b032a67",
   "metadata": {},
   "outputs": [
    {
     "name": "stdout",
     "output_type": "stream",
     "text": [
      "13\n"
     ]
    }
   ],
   "source": [
    "my_reduce(addition,lst)"
   ]
  },
  {
   "cell_type": "code",
   "execution_count": 6,
   "id": "efa2e095",
   "metadata": {},
   "outputs": [
    {
     "name": "stdout",
     "output_type": "stream",
     "text": [
      "48\n"
     ]
    }
   ],
   "source": [
    "my_reduce(multiplication,lst)"
   ]
  },
  {
   "cell_type": "markdown",
   "id": "870ff083",
   "metadata": {},
   "source": [
    "### 1.2 myfilter()"
   ]
  },
  {
   "cell_type": "raw",
   "id": "f2b796cd",
   "metadata": {},
   "source": [
    "Write a Python program to implement your own myfilter() function which works exactly\n",
    "like Python's built-in function filter()"
   ]
  },
  {
   "cell_type": "code",
   "execution_count": 7,
   "id": "eba7c309",
   "metadata": {},
   "outputs": [],
   "source": [
    "lst=[12,5,4,7,7,84,12,5,66,23,4,5,23,12,45,12,23,13]"
   ]
  },
  {
   "cell_type": "code",
   "execution_count": 8,
   "id": "e07fbeda",
   "metadata": {},
   "outputs": [],
   "source": [
    "## input funtion for my_filter()\n",
    "def func(x):\n",
    "    if x<13:\n",
    "        return True"
   ]
  },
  {
   "cell_type": "code",
   "execution_count": 9,
   "id": "1dce9c8f",
   "metadata": {},
   "outputs": [],
   "source": [
    "def my_filter(fun,l):\n",
    "    for i in range(len(l)-1):\n",
    "        if fun(l[i]):\n",
    "            yield l[i]"
   ]
  },
  {
   "cell_type": "code",
   "execution_count": 10,
   "id": "6fc9d255",
   "metadata": {},
   "outputs": [
    {
     "name": "stdout",
     "output_type": "stream",
     "text": [
      "12\n",
      "5\n",
      "4\n",
      "7\n",
      "7\n",
      "12\n",
      "5\n",
      "4\n",
      "5\n",
      "12\n",
      "12\n"
     ]
    }
   ],
   "source": [
    "for i in my_filter(func,lst):\n",
    "    print(i)"
   ]
  },
  {
   "cell_type": "markdown",
   "id": "0a2a532e",
   "metadata": {},
   "source": [
    "### 2. Implement List comprehensions to produce the following lists."
   ]
  },
  {
   "cell_type": "raw",
   "id": "0f73866a",
   "metadata": {},
   "source": [
    "Write List comprehensions to produce the following Lists\n",
    "\n",
    "1.['x', 'xx', 'xxx', 'xxxx', 'y', 'yy', 'yyy', 'yyyy', 'z', 'zz', 'zzz', 'zzzz']\n",
    "\n",
    "2.['x', 'y', 'z', 'xx', 'yy', 'zz', 'xxx', 'yyy', 'zzz', 'xxxx', 'yyyy', 'zzzz']\n",
    "\n",
    "3.[[2], [3], [4], [3], [4], [5], [4], [5], [6]] \n",
    "\n",
    "4.[[2, 3, 4, 5], [3, 4, 5, 6],[4, 5, 6, 7], [5, 6, 7, 8]]\n",
    "\n",
    "5.[(1, 1), (2, 1), (3, 1), (1, 2), (2, 2), (3, 2), (1, 3), (2, 3), (3, 3)]"
   ]
  },
  {
   "cell_type": "markdown",
   "id": "954ac60b",
   "metadata": {},
   "source": [
    "#### 1. ['x', 'xx', 'xxx', 'xxxx', 'y', 'yy', 'yyy', 'yyyy', 'z', 'zz', 'zzz', 'zzzz']"
   ]
  },
  {
   "cell_type": "code",
   "execution_count": 11,
   "id": "17d7015b",
   "metadata": {},
   "outputs": [],
   "source": [
    "l=['x','y','z']"
   ]
  },
  {
   "cell_type": "code",
   "execution_count": 12,
   "id": "71d6479f",
   "metadata": {},
   "outputs": [
    {
     "name": "stdout",
     "output_type": "stream",
     "text": [
      "['x', 'xx', 'xxx', 'xxxx', 'y', 'yy', 'yyy', 'yyyy', 'z', 'zz', 'zzz', 'zzzz']\n"
     ]
    }
   ],
   "source": [
    "lst=[j*l[i] for i in range(len(l)) for j in range(1,5)]\n",
    "print(lst)"
   ]
  },
  {
   "cell_type": "markdown",
   "id": "2267b52a",
   "metadata": {},
   "source": [
    "#### 2. ['x', 'y', 'z', 'xx', 'yy', 'zz', 'xxx', 'yyy', 'zzz', 'xxxx', 'yyyy', 'zzzz']"
   ]
  },
  {
   "cell_type": "code",
   "execution_count": 13,
   "id": "fc5f70c6",
   "metadata": {},
   "outputs": [
    {
     "name": "stdout",
     "output_type": "stream",
     "text": [
      "['x', 'y', 'z', 'xx', 'yy', 'zz', 'xxx', 'yyy', 'zzz', 'xxx', 'yyy', 'zzz']\n"
     ]
    }
   ],
   "source": [
    "lst=[l[i] for i in range(len(l))]+[l[i]+l[i] for i in range(len(l))]+[l[i]+l[i]+l[i] for i in range(len(l))]+[l[i]+l[i]+l[i] for i in range(len(l))]\n",
    "print(lst)"
   ]
  },
  {
   "cell_type": "markdown",
   "id": "8851d48b",
   "metadata": {},
   "source": [
    "#### we can also use list comprehension method like below by spiting problem into small small chunk."
   ]
  },
  {
   "cell_type": "code",
   "execution_count": 14,
   "id": "55ed8e0b",
   "metadata": {},
   "outputs": [
    {
     "data": {
      "text/plain": [
       "['x', 'y', 'z', 'xx', 'yy', 'zz', 'xxx', 'yyy', 'zzz', 'xxxx', 'yyyy', 'zzzz']"
      ]
     },
     "execution_count": 14,
     "metadata": {},
     "output_type": "execute_result"
    }
   ],
   "source": [
    "l=['x','y','z']\n",
    "a=[l[i]+l[i] for i in range(len(l))]\n",
    "b=[l[i]+a[i] for i in range(len(l))]\n",
    "c=[a[i]+a[i] for i in range(len(l))]\n",
    "z=l+a+b+c\n",
    "z"
   ]
  },
  {
   "cell_type": "markdown",
   "id": "5ea507c1",
   "metadata": {},
   "source": [
    "#### 3. [[2], [3], [4], [3], [4], [5], [4], [5], [6]]"
   ]
  },
  {
   "cell_type": "code",
   "execution_count": 15,
   "id": "d27a618a",
   "metadata": {},
   "outputs": [
    {
     "data": {
      "text/plain": [
       "[[2], [3], [4], [3], [4], [5], [4], [5], [6]]"
      ]
     },
     "execution_count": 15,
     "metadata": {},
     "output_type": "execute_result"
    }
   ],
   "source": [
    "lst=[[i+j] for i in range(1,4) for j in range(1,4)]\n",
    "lst"
   ]
  },
  {
   "cell_type": "markdown",
   "id": "e757bbb3",
   "metadata": {},
   "source": [
    "#### 4. [[2, 3, 4, 5], [3, 4, 5, 6],[4, 5, 6, 7], [5, 6, 7, 8]]"
   ]
  },
  {
   "cell_type": "code",
   "execution_count": 16,
   "id": "43e70ae0",
   "metadata": {},
   "outputs": [
    {
     "data": {
      "text/plain": [
       "[[2, 3, 4, 5], [3, 4, 5, 6], [4, 5, 6, 7], [5, 6, 7, 8]]"
      ]
     },
     "execution_count": 16,
     "metadata": {},
     "output_type": "execute_result"
    }
   ],
   "source": [
    "lst=[[j+i for i in range(2,6)] for j in range(4)]\n",
    "lst"
   ]
  },
  {
   "cell_type": "markdown",
   "id": "249b2de5",
   "metadata": {},
   "source": [
    "#### 5. [(1, 1), (2, 1), (3, 1), (1, 2), (2, 2), (3, 2), (1, 3), (2, 3), (3, 3)]"
   ]
  },
  {
   "cell_type": "code",
   "execution_count": 17,
   "id": "59bdb527",
   "metadata": {},
   "outputs": [
    {
     "data": {
      "text/plain": [
       "[(1, 1), (2, 1), (3, 1), (1, 2), (2, 2), (3, 2), (1, 3), (2, 3), (3, 3)]"
      ]
     },
     "execution_count": 17,
     "metadata": {},
     "output_type": "execute_result"
    }
   ],
   "source": [
    "lst=[(j,i) for i in range(1,4) for j in range(1,4)]\n",
    "lst"
   ]
  }
 ],
 "metadata": {
  "kernelspec": {
   "display_name": "Python 3",
   "language": "python",
   "name": "python3"
  },
  "language_info": {
   "codemirror_mode": {
    "name": "ipython",
    "version": 3
   },
   "file_extension": ".py",
   "mimetype": "text/x-python",
   "name": "python",
   "nbconvert_exporter": "python",
   "pygments_lexer": "ipython3",
   "version": "3.8.8"
  }
 },
 "nbformat": 4,
 "nbformat_minor": 5
}
