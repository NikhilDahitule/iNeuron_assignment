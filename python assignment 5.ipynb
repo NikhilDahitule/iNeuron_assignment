{
 "cells": [
  {
   "cell_type": "markdown",
   "id": "2683721e",
   "metadata": {},
   "source": [
    "#### 1. Write a function to compute 5/0 and use try/except to catch the exceptions."
   ]
  },
  {
   "cell_type": "code",
   "execution_count": 1,
   "id": "c6066c52",
   "metadata": {},
   "outputs": [],
   "source": [
    "def division(x,y):\n",
    "    try:\n",
    "        result=x/y\n",
    "        print('your answer is : ', result)\n",
    "    except ZeroDivisionError:\n",
    "        print('you are dividing the given number by zero')\n",
    "    else:\n",
    "        print('try block succesfully run, no error found')\n",
    "    finally:\n",
    "        print('funtion called succesfully')"
   ]
  },
  {
   "cell_type": "code",
   "execution_count": 2,
   "id": "08cf48dd",
   "metadata": {},
   "outputs": [
    {
     "name": "stdout",
     "output_type": "stream",
     "text": [
      "you are dividing the given number by zero\n",
      "funtion called succesfully\n"
     ]
    }
   ],
   "source": [
    "division(5,0)"
   ]
  },
  {
   "cell_type": "code",
   "execution_count": 3,
   "id": "1a02d63e",
   "metadata": {},
   "outputs": [
    {
     "name": "stdout",
     "output_type": "stream",
     "text": [
      "your answer is :  1.25\n",
      "try block succesfully run, no error found\n",
      "funtion called succesfully\n"
     ]
    }
   ],
   "source": [
    "division(5,4)"
   ]
  },
  {
   "cell_type": "markdown",
   "id": "67834fb9",
   "metadata": {},
   "source": [
    "#### 2. Implement a Python program to generate all sentences where subject is in [\"Americans\", \"Indians\"] and verb is in [\"Play\",\"watch\"] and the object is in [\"Baseball\",\"cricket\"]."
   ]
  },
  {
   "cell_type": "code",
   "execution_count": 4,
   "id": "760ece31",
   "metadata": {},
   "outputs": [],
   "source": [
    "subjects=[\"Americans\", \"Indians\"]\n",
    "verbs=[\"Play\",\"watch\"]\n",
    "objects=[\"Baseball\",\"cricket\"]"
   ]
  },
  {
   "cell_type": "code",
   "execution_count": 5,
   "id": "1661ea24",
   "metadata": {},
   "outputs": [],
   "source": [
    "def generate_sentences(s,v,o):\n",
    "    for i in s:\n",
    "        for j in v:\n",
    "            for k in o:\n",
    "                print(i + ' '+ j + ' '+ k)"
   ]
  },
  {
   "cell_type": "code",
   "execution_count": 6,
   "id": "a5c23ff2",
   "metadata": {},
   "outputs": [
    {
     "name": "stdout",
     "output_type": "stream",
     "text": [
      "Americans Play Baseball\n",
      "Americans Play cricket\n",
      "Americans watch Baseball\n",
      "Americans watch cricket\n",
      "Indians Play Baseball\n",
      "Indians Play cricket\n",
      "Indians watch Baseball\n",
      "Indians watch cricket\n"
     ]
    }
   ],
   "source": [
    "generate_sentences(subjects,verbs,objects)"
   ]
  }
 ],
 "metadata": {
  "kernelspec": {
   "display_name": "Python 3",
   "language": "python",
   "name": "python3"
  },
  "language_info": {
   "codemirror_mode": {
    "name": "ipython",
    "version": 3
   },
   "file_extension": ".py",
   "mimetype": "text/x-python",
   "name": "python",
   "nbconvert_exporter": "python",
   "pygments_lexer": "ipython3",
   "version": "3.8.8"
  }
 },
 "nbformat": 4,
 "nbformat_minor": 5
}
